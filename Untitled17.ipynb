{
  "nbformat": 4,
  "nbformat_minor": 0,
  "metadata": {
    "colab": {
      "provenance": []
    },
    "kernelspec": {
      "name": "python3",
      "display_name": "Python 3"
    },
    "language_info": {
      "name": "python"
    }
  },
  "cells": [
    {
      "cell_type": "code",
      "execution_count": null,
      "metadata": {
        "id": "EUuFSYtYhm2J"
      },
      "outputs": [],
      "source": [
        "import nltk\n",
        "from nltk.corpus import stopwords\n",
        "from nltk.tokenize import word_tokenize, sent_tokenize\n",
        "from heapq import nlargest"
      ]
    },
    {
      "cell_type": "code",
      "source": [
        "nltk.download('punkt')\n",
        "nltk.download('punkt')\n",
        "nltk.download('stopwords')"
      ],
      "metadata": {
        "colab": {
          "base_uri": "https://localhost:8080/"
        },
        "id": "YigdZfWYj6TO",
        "outputId": "b54a616f-c4dc-43de-e1fd-0443c13733ea"
      },
      "execution_count": null,
      "outputs": [
        {
          "output_type": "stream",
          "name": "stderr",
          "text": [
            "[nltk_data] Downloading package punkt to /root/nltk_data...\n",
            "[nltk_data]   Package punkt is already up-to-date!\n",
            "[nltk_data] Downloading package punkt to /root/nltk_data...\n",
            "[nltk_data]   Package punkt is already up-to-date!\n",
            "[nltk_data] Downloading package stopwords to /root/nltk_data...\n",
            "[nltk_data]   Unzipping corpora/stopwords.zip.\n"
          ]
        },
        {
          "output_type": "execute_result",
          "data": {
            "text/plain": [
              "True"
            ]
          },
          "metadata": {},
          "execution_count": 12
        }
      ]
    },
    {
      "cell_type": "code",
      "source": [
        "# Sample text\n",
        "text = \"\"\"\n",
        "Narendra Modi, a prominent Indian politician, has been serving as the Prime Minister of India since May 2014. Born on September 17, 1950, in Vadnagar, a small town in Gujarat, he has emerged as a significant figure in Indian politics. Before assuming the role of Prime Minister, Modi served as the Chief Minister of Gujarat from 2001 to 2014, where he was recognized for his economic policies and development initiatives. His leadership style has often been characterized as dynamic and assertive, focusing on initiatives such as the Swachh Bharat Mission, Digital India, and Make in India, aimed at transforming India into a globally competitive economy. Modi's political journey has been marked by both praise for his developmental efforts and criticism from various quarters concerning issues such as secularism and human rights. His leadership continues to shape the socio-political landscape of contemporary India. \"\"\"\n"
      ],
      "metadata": {
        "id": "0zOZaF53iGeY"
      },
      "execution_count": null,
      "outputs": []
    },
    {
      "cell_type": "code",
      "source": [
        "# Tokenize sentences\n",
        "sentences = sent_tokenize(text)"
      ],
      "metadata": {
        "id": "njE2GMCLiKD_"
      },
      "execution_count": null,
      "outputs": []
    },
    {
      "cell_type": "code",
      "source": [
        "# Tokenize words\n",
        "words = word_tokenize(text)"
      ],
      "metadata": {
        "id": "Ni7bxaibiNtl"
      },
      "execution_count": null,
      "outputs": []
    },
    {
      "cell_type": "code",
      "source": [
        "# Remove stop words\n",
        "stop_words = set(stopwords.words('english'))\n",
        "words = [word for word in words if word.lower() not in stop_words]"
      ],
      "metadata": {
        "id": "shsqCjfmiQpO"
      },
      "execution_count": null,
      "outputs": []
    },
    {
      "cell_type": "code",
      "source": [
        "# Create word frequency table\n",
        "word_frequencies = {}\n",
        "for word in words:\n",
        "    if word not in word_frequencies:\n",
        "        word_frequencies[word] = 1\n",
        "    else:\n",
        "        word_frequencies[word] += 1"
      ],
      "metadata": {
        "id": "PfxYpX7dkG3C"
      },
      "execution_count": null,
      "outputs": []
    },
    {
      "cell_type": "code",
      "source": [
        "# Calculate sentence scores\n",
        "sentence_scores = {}\n",
        "for sentence in sentences:\n",
        "    for word in word_tokenize(sentence.lower()):\n",
        "        if word in word_frequencies:\n",
        "            if sentence not in sentence_scores:\n",
        "                sentence_scores[sentence] = word_frequencies[word]\n",
        "            else:\n",
        "                sentence_scores[sentence] += word_frequencies[word]"
      ],
      "metadata": {
        "id": "4Yv3JEaukS66"
      },
      "execution_count": null,
      "outputs": []
    },
    {
      "cell_type": "code",
      "source": [
        "# Get the top 3 sentences with the highest scores for the summary\n",
        "summary_sentences = nlargest(3, sentence_scores, key=sentence_scores.get)\n",
        "\n",
        "# Combine the summary sentences into a paragraph\n",
        "summary = ' '.join(summary_sentences)"
      ],
      "metadata": {
        "id": "VuWIWe-IkWBB"
      },
      "execution_count": null,
      "outputs": []
    },
    {
      "cell_type": "code",
      "source": [
        "print(\"Original Text:\")\n",
        "print(text)\n",
        "print(\"\\nSummary:\")\n",
        "print(summary)"
      ],
      "metadata": {
        "id": "fADx2CxQkYZ6",
        "outputId": "2cf5eef4-ad77-4325-fa9f-d5db25019b0e",
        "colab": {
          "base_uri": "https://localhost:8080/"
        }
      },
      "execution_count": null,
      "outputs": [
        {
          "output_type": "stream",
          "name": "stdout",
          "text": [
            "Original Text:\n",
            "\n",
            "Narendra Modi, a prominent Indian politician, has been serving as the Prime Minister of India since May 2014. Born on September 17, 1950, in Vadnagar, a small town in Gujarat, he has emerged as a significant figure in Indian politics. Before assuming the role of Prime Minister, Modi served as the Chief Minister of Gujarat from 2001 to 2014, where he was recognized for his economic policies and development initiatives. His leadership style has often been characterized as dynamic and assertive, focusing on initiatives such as the Swachh Bharat Mission, Digital India, and Make in India, aimed at transforming India into a globally competitive economy. Modi's political journey has been marked by both praise for his developmental efforts and criticism from various quarters concerning issues such as secularism and human rights. His leadership continues to shape the socio-political landscape of contemporary India. \n",
            "\n",
            "Summary:\n",
            "His leadership style has often been characterized as dynamic and assertive, focusing on initiatives such as the Swachh Bharat Mission, Digital India, and Make in India, aimed at transforming India into a globally competitive economy. Born on September 17, 1950, in Vadnagar, a small town in Gujarat, he has emerged as a significant figure in Indian politics. Before assuming the role of Prime Minister, Modi served as the Chief Minister of Gujarat from 2001 to 2014, where he was recognized for his economic policies and development initiatives.\n"
          ]
        }
      ]
    },
    {
      "cell_type": "code",
      "source": [],
      "metadata": {
        "id": "XXHiYVAAkaL-"
      },
      "execution_count": null,
      "outputs": []
    }
  ]
}